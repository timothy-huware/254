{
 "cells": [
  {
   "cell_type": "code",
   "execution_count": 2,
   "id": "b19044ec-5c04-459d-8161-18f5f1150be6",
   "metadata": {},
   "outputs": [],
   "source": [
    "import google.oauth2.service_account as service_account"
   ]
  },
  {
   "cell_type": "code",
   "execution_count": 3,
   "id": "86793687-1103-418f-951c-0ad7f7604d4f",
   "metadata": {},
   "outputs": [
    {
     "name": "stdout",
     "output_type": "stream",
     "text": [
      "firebase-adminsdk-2bj41@uni-ciam-dev.iam.gserviceaccount.com\n"
     ]
    }
   ],
   "source": [
    "# Create a Credentials object with the service account private key and the scopes this application need the access to\n",
    "import googleapiclient.discovery\n",
    "import json\n",
    "\n",
    "# SCOPES = ['https://www.googleapis.com/auth/cloud-platform', 'https://www.googleapis.com/auth/pubsub\t','https://www.googleapis.com/auth/userinfo.email']\n",
    "SERVICE_ACCOUNT_FILE = [PATH TO SERVICE ACCOUNT JSON FILE]\n",
    "\n",
    "credentials = service_account.Credentials.from_service_account_file(SERVICE_ACCOUNT_FILE)\n",
    "                                                                    # , scopes=SCOPES)\n",
    "\n",
    "# Let's check the email of the authenticated user, should be the service account's email\n",
    "user_info_service = googleapiclient.discovery.build('oauth2', 'v2', credentials=credentials)\n",
    "user_info = user_info_service.userinfo().get().execute()\n",
    "print(user_info['email'])"
   ]
  },
  {
   "cell_type": "code",
   "execution_count": 6,
   "id": "4402871a-53ae-4d6f-82ff-6c4d9143eb8c",
   "metadata": {},
   "outputs": [],
   "source": [
    "# TEST NUOVO FLUSSO DI REGISTRAZIONE PROPOSTO.\n",
    "# CREAZIONE DELL'UTENZA SOLO CON EMAIL \n",
    "\n",
    "created_ids = []\n",
    "for i in range(0, 100):\n",
    "    email = f\"pubsub+test{i}@email.com\"\n",
    "    payload = {\n",
    "        \"email\": email\n",
    "    }\n",
    "    with googleapiclient.discovery.build('identitytoolkit', 'v1', credentials=credentials) as identity_platform_service:\n",
    "        response = identity_platform_service.accounts().signUp(body=payload).execute()\n",
    "    local_id = response['localId']\n",
    "    created_ids.append(local_id)"
   ]
  },
  {
   "cell_type": "code",
   "execution_count": 5,
   "id": "36f49048-0461-406d-818b-f522216ae110",
   "metadata": {},
   "outputs": [],
   "source": [
    "# DELETE UTENTE\n",
    "\n",
    "for local_id in created_ids:\n",
    "    payload = {\n",
    "        \"localId\": local_id,\n",
    "    }\n",
    "\n",
    "    with googleapiclient.discovery.build('identitytoolkit', 'v1', credentials=credentials) as identity_platform_service:\n",
    "        response = identity_platform_service.accounts().delete(body=payload).execute()\n"
   ]
  },
  {
   "cell_type": "code",
   "execution_count": null,
   "id": "c1628151-cdc0-451f-bb63-3a40d6e91e38",
   "metadata": {},
   "outputs": [],
   "source": []
  }
 ],
 "metadata": {
  "kernelspec": {
   "display_name": "venv",
   "language": "python",
   "name": "venv"
  },
  "language_info": {
   "codemirror_mode": {
    "name": "ipython",
    "version": 3
   },
   "file_extension": ".py",
   "mimetype": "text/x-python",
   "name": "python",
   "nbconvert_exporter": "python",
   "pygments_lexer": "ipython3",
   "version": "3.10.12"
  }
 },
 "nbformat": 4,
 "nbformat_minor": 5
}
